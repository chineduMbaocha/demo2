{
 "cells": [
  {
   "cell_type": "markdown",
   "id": "5984b7b4-babe-4be7-bb41-58bd28af1eb8",
   "metadata": {},
   "source": [
    "**Peer-graded Assignment**"
   ]
  },
  {
   "cell_type": "markdown",
   "id": "d7d5f4c1-7a69-46b1-b45f-61e1e2b1ed64",
   "metadata": {},
   "source": [
    "<h>My Jupyter Notebook on IBM Watson Studio</h1>"
   ]
  },
  {
   "cell_type": "markdown",
   "id": "2a87d695-a96c-4f3c-bc05-e8a06de1bada",
   "metadata": {},
   "source": [
    "**Mbaocha Chinedu John**\n",
    "Data Analyst"
   ]
  },
  {
   "cell_type": "markdown",
   "id": "0f272b52-b1bb-48dd-8b52-3375dd978393",
   "metadata": {},
   "source": [
    "*I am interested in data science because I want to be able to analyze data to make informed decisions.*\n"
   ]
  },
  {
   "cell_type": "markdown",
   "id": "663020fc-9174-4308-b541-ab209a1698d2",
   "metadata": {},
   "source": [
    "<h3> The code below shows the number of images uploaded by each students in a roe and column format</h3>"
   ]
  },
  {
   "cell_type": "markdown",
   "id": "74c19af2-cbbd-45a8-89e3-05f8b0047db8",
   "metadata": {},
   "source": [
    "Total number if images Uploaded by  each student\n",
    "| Names of students      |  Processed       |    Unprocessed  | \n",
    "| -------------- | :-------------: | :--------------: | \n",
    "|Ugoh|  3 | 6|\n",
    "|John|  5 | 4|\n",
    "|Philip |  7 | 4|\n",
    "|Joy |  4 | 2|\n"
   ]
  },
  {
   "cell_type": "markdown",
   "id": "bb87ea0a-8ff7-4890-b304-0d4a589fd5ca",
   "metadata": {},
   "source": [
    "horizontal line: -------------------------------------------------------------------------\n",
    "\n",
    "a href=\"https://dataplatform.cloud.ibm.com/gallery\" >Hyperlink </a>\n",
    " \n",
    "> This is a block quote\n",
    "\n",
    "Strikethrough:   ~~I will repeat this course.~~\n"
   ]
  }
 ],
 "metadata": {
  "kernelspec": {
   "display_name": "Python",
   "language": "python",
   "name": "conda-env-python-py"
  },
  "language_info": {
   "codemirror_mode": {
    "name": "ipython",
    "version": 3
   },
   "file_extension": ".py",
   "mimetype": "text/x-python",
   "name": "python",
   "nbconvert_exporter": "python",
   "pygments_lexer": "ipython3",
   "version": "3.7.12"
  }
 },
 "nbformat": 4,
 "nbformat_minor": 5
}
